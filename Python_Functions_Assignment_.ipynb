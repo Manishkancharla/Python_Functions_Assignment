{
  "nbformat": 4,
  "nbformat_minor": 0,
  "metadata": {
    "colab": {
      "provenance": [],
      "authorship_tag": "ABX9TyPzGhcMNO6oHk1EgwNQGNpR",
      "include_colab_link": true
    },
    "kernelspec": {
      "name": "python3",
      "display_name": "Python 3"
    },
    "language_info": {
      "name": "python"
    }
  },
  "cells": [
    {
      "cell_type": "markdown",
      "metadata": {
        "id": "view-in-github",
        "colab_type": "text"
      },
      "source": [
        "<a href=\"https://colab.research.google.com/github/Manishkancharla/Python_Functions_Assignment/blob/main/Python_Functions_Assignment_.ipynb\" target=\"_parent\"><img src=\"https://colab.research.google.com/assets/colab-badge.svg\" alt=\"Open In Colab\"/></a>"
      ]
    },
    {
      "cell_type": "markdown",
      "source": [
        "Theory Questions:"
      ],
      "metadata": {
        "id": "vAw8CzmpTK0g"
      }
    },
    {
      "cell_type": "markdown",
      "source": [
        "1) What is the difference between a function and a method in python?\n"
      ],
      "metadata": {
        "id": "iGlDN33YTQB4"
      }
    },
    {
      "cell_type": "code",
      "source": [
        "# Functions :-\n",
        "# Functions can be called directly by their names.\n",
        "# Functions can't access object attributes unless you pass the object as an argument.\n",
        "# Functions can be defined without any parameters meaning they can accept zero arguments.\n",
        "# Functions are independent of classes.\n",
        "def sum(a,b,c):\n",
        "  return a+b+c\n",
        "sum(18,6,2)\n"
      ],
      "metadata": {
        "colab": {
          "base_uri": "https://localhost:8080/"
        },
        "id": "ql1Te5PmTSox",
        "outputId": "7a56acfd-0cd5-4de7-8c42-e2dd9863c6a8"
      },
      "execution_count": 1,
      "outputs": [
        {
          "output_type": "execute_result",
          "data": {
            "text/plain": [
              "26"
            ]
          },
          "metadata": {},
          "execution_count": 1
        }
      ]
    },
    {
      "cell_type": "code",
      "source": [
        "# Method :-\n",
        "# Methods cannot be called by their names alone.\n",
        "# Methods can directly access the attributes and properties of the object they are associated with.\n",
        "# Method must include at least one parameter.\n",
        "# Method are dependent on classes.\n",
        "class Circle():\n",
        "  def __init__(self,radius):\n",
        "    self.radius=radius\n",
        "  def area(self):\n",
        "    return 3.14*self.radius**2\n",
        "circle1=Circle(5)\n",
        "print(circle1.area())"
      ],
      "metadata": {
        "colab": {
          "base_uri": "https://localhost:8080/"
        },
        "id": "kwKmF_bGTSdm",
        "outputId": "3abc378c-3008-4300-b8bf-c5d5bbcb1045"
      },
      "execution_count": 2,
      "outputs": [
        {
          "output_type": "stream",
          "name": "stdout",
          "text": [
            "78.5\n"
          ]
        }
      ]
    },
    {
      "cell_type": "markdown",
      "source": [
        "2) Explain teh concept of function arguments and parameters in python?"
      ],
      "metadata": {
        "id": "BWzQcIm0XGuS"
      }
    },
    {
      "cell_type": "code",
      "source": [
        "# Function argument are values that you provide to a function when you call it. These arguments can be used by the function to perform specific tasks.\n",
        "# sum of two numbers\n",
        "def sum(a,b):\n",
        "  return a+b\n",
        "sum(26,18)"
      ],
      "metadata": {
        "colab": {
          "base_uri": "https://localhost:8080/"
        },
        "id": "bFuK8q_hXR23",
        "outputId": "bebad6c2-b29a-4ade-d853-e3ba16d058dd"
      },
      "execution_count": 3,
      "outputs": [
        {
          "output_type": "execute_result",
          "data": {
            "text/plain": [
              "44"
            ]
          },
          "metadata": {},
          "execution_count": 3
        }
      ]
    },
    {
      "cell_type": "markdown",
      "source": [
        "3) What are the different ways to define and call a function in python?"
      ],
      "metadata": {
        "id": "LGJv1U8dZpXc"
      }
    },
    {
      "cell_type": "code",
      "source": [
        "# Use the \"def\" keyword:\n",
        "# Write the name of the function.\n",
        "# Add paranthesis() after the functions name.\n",
        "# Inside the parameters, add any parameters that the function requires, separated by commas(,).\n",
        "# End the line with a semicolon \":\".\n",
        "def sum(a,b): #This line says about call of function\n",
        "  return a*b\n",
        "sum(18,6)"
      ],
      "metadata": {
        "colab": {
          "base_uri": "https://localhost:8080/"
        },
        "id": "ZNuR8ACeZpuQ",
        "outputId": "3c43f1cf-d6c3-49c0-c866-0d504dea10e7"
      },
      "execution_count": 4,
      "outputs": [
        {
          "output_type": "execute_result",
          "data": {
            "text/plain": [
              "108"
            ]
          },
          "metadata": {},
          "execution_count": 4
        }
      ]
    },
    {
      "cell_type": "markdown",
      "source": [
        "4) What is the purpose of the \"return\" statement in a python function?"
      ],
      "metadata": {
        "id": "d0DWCenibAl7"
      }
    },
    {
      "cell_type": "code",
      "source": [
        "# The python return statement marks the end of a function and specifies the value (or) values to pass back from the function. Return statements can return data of any type, including integers, floats, string, lists, dictionaries, and even other fuctions.\n",
        "def sum(a,b):\n",
        "  return a/b\n",
        "sum(62,4)"
      ],
      "metadata": {
        "colab": {
          "base_uri": "https://localhost:8080/"
        },
        "id": "L33K7nimbBHc",
        "outputId": "50d17204-5548-41a3-9db2-4972a2fbf22d"
      },
      "execution_count": 5,
      "outputs": [
        {
          "output_type": "execute_result",
          "data": {
            "text/plain": [
              "15.5"
            ]
          },
          "metadata": {},
          "execution_count": 5
        }
      ]
    },
    {
      "cell_type": "markdown",
      "source": [
        "5) What are iterators in python and how do they differ from iterables?\n"
      ],
      "metadata": {
        "id": "6suYez9ecPwS"
      }
    },
    {
      "cell_type": "code",
      "source": [
        "# Iterable is an object, that one can iterate over. It generates a iterator when passed to iter() method. An iterator is an object, which is used to iterate over an iterable object using the next() method. Iterators have the next() method which returns the next item of the object.\n",
        "s=\"Hindu\"\n",
        "s=iter(s)\n",
        "print(s)\n",
        "print(next(s))\n",
        "print(next(s))\n",
        "print(next(s))\n",
        "print(next(s))\n",
        "print(next(s))"
      ],
      "metadata": {
        "colab": {
          "base_uri": "https://localhost:8080/"
        },
        "id": "KJIna5zOcQWM",
        "outputId": "c2a00dc2-1fb7-45c0-a4de-a14b96d068f1"
      },
      "execution_count": 6,
      "outputs": [
        {
          "output_type": "stream",
          "name": "stdout",
          "text": [
            "<str_iterator object at 0x7fa4cc7ab040>\n",
            "H\n",
            "i\n",
            "n\n",
            "d\n",
            "u\n"
          ]
        }
      ]
    },
    {
      "cell_type": "markdown",
      "source": [
        "6) Explain the concept of generators in python and how they are defined?\n"
      ],
      "metadata": {
        "id": "eqeraToinWTk"
      }
    },
    {
      "cell_type": "code",
      "source": [
        "# Generator function in python are way to create iterators in a more concise and memory efficient manner.\n",
        "# These functions allow you to iterate over a potentially large sequence of data without loading the entire sequence into memory.\n",
        "# The main difference between a regular function and a generator function is that the latter uses the yield keyword to produce a series of values overtime, one at a time rather than returning a single result.\n",
        "def data_science_concepts_generator():\n",
        "  yield \"Data Exploration\"\n",
        "  yield \"Machine Learning\"\n",
        "  yield \"Data Visualization\"\n",
        "  yield \"Statistics Basics\"\n",
        "for concept in data_science_concepts_generator():\n",
        "  print(f\"understand:{concept}\")\n"
      ],
      "metadata": {
        "colab": {
          "base_uri": "https://localhost:8080/"
        },
        "id": "D0nFTbeWnW5j",
        "outputId": "fa71223c-a4a7-430e-9085-93a1d35f12ab"
      },
      "execution_count": 7,
      "outputs": [
        {
          "output_type": "stream",
          "name": "stdout",
          "text": [
            "understand:Data Exploration\n",
            "understand:Machine Learning\n",
            "understand:Data Visualization\n",
            "understand:Statistics Basics\n"
          ]
        }
      ]
    },
    {
      "cell_type": "markdown",
      "source": [
        "7) What are the advantages of using generators over regular functions?"
      ],
      "metadata": {
        "id": "cV6tglqcnXWc"
      }
    },
    {
      "cell_type": "code",
      "source": [
        "# The normal functions in python are used for traditional computation tasks with execution proceeding from start to finish typically returning a single result.\n",
        "# The generator functions employ the 'yield' statement to produce values lazily, preserving their state across multiple calls. The generator functions handle large data sets.\n",
        "def square():  # generator function\n",
        "    number = 2  # starting number\n",
        "    while True:  # create an infinite loop\n",
        "        yield number  # yield the current value of 'number'\n",
        "        number *= number  # calculate the square of 'number' and update its value\n",
        "\n",
        "# Create a generator object 'sq' by calling the 'square()' generator function\n",
        "sq = square()\n",
        "\n",
        "# Function calls\n",
        "print(next(sq))  # prints 2\n",
        "print(next(sq))  # prints 4 (2 squared)\n",
        "print(next(sq))  # prints 16 (4 squared)\n",
        "print(next(sq))  # prints 256 (16 squared)\n",
        "\n"
      ],
      "metadata": {
        "colab": {
          "base_uri": "https://localhost:8080/"
        },
        "id": "AezOM0QcnX_9",
        "outputId": "d8393d11-75e6-494e-db38-e93199538a07"
      },
      "execution_count": 8,
      "outputs": [
        {
          "output_type": "stream",
          "name": "stdout",
          "text": [
            "2\n",
            "4\n",
            "16\n",
            "256\n"
          ]
        }
      ]
    },
    {
      "cell_type": "markdown",
      "source": [
        "8) What is a lambda function in python and when is it typically used?"
      ],
      "metadata": {
        "id": "nH9nVSgNnZx3"
      }
    },
    {
      "cell_type": "code",
      "source": [
        "# A lambda function in python is a concise way to create anonymous function, also known as lambda expressions.\n",
        "# Unlike regular functions defined using the def keyword, lambda functions are often used for short term operations and are defined in single line.\n",
        "# syntax :- lambda arguments : expressions\n",
        "# Even numbers\n",
        "is_even = lambda x : x % 2 == 0\n",
        "print(is_even(10))\n",
        "print(is_even(15))"
      ],
      "metadata": {
        "colab": {
          "base_uri": "https://localhost:8080/"
        },
        "id": "Qfnc2jK3naOJ",
        "outputId": "c791ed75-49bb-4d69-f517-93f25d7cfed8"
      },
      "execution_count": 9,
      "outputs": [
        {
          "output_type": "stream",
          "name": "stdout",
          "text": [
            "True\n",
            "False\n"
          ]
        }
      ]
    },
    {
      "cell_type": "markdown",
      "source": [
        "9) Explain the purpose and usage of the 'map()' function in python?"
      ],
      "metadata": {
        "id": "0hbm3RmLna_A"
      }
    },
    {
      "cell_type": "code",
      "source": [
        "# The 'map()' function executes a specific function for each item in an 'iterable'. The item is sent to the function as a parameter.\n",
        "# The 'map()' function in python is a built-in function that applies a given function to all the items in an iterable(e.g.a list) and returns an iterable map object(an iterator)of the results.\n",
        "# syntax :- map(function,iterable,....)\n",
        "# converting string numbers to integers\n",
        "numbers_as_strings = [\"1\",\"2\",\"3\",\"4\",\"5\"]\n",
        "numbers_as_integers = list(map(int,numbers_as_strings))\n",
        "print(numbers_as_integers)"
      ],
      "metadata": {
        "colab": {
          "base_uri": "https://localhost:8080/"
        },
        "id": "zkFM9ESonb2X",
        "outputId": "7f1e1f62-fdb0-4dba-867d-f313745c3919"
      },
      "execution_count": 10,
      "outputs": [
        {
          "output_type": "stream",
          "name": "stdout",
          "text": [
            "[1, 2, 3, 4, 5]\n"
          ]
        }
      ]
    },
    {
      "cell_type": "markdown",
      "source": [
        "10) What is the difference between 'map()','reduce()', and 'filter()' functions in python?"
      ],
      "metadata": {
        "id": "O8N3EOv1ncVc"
      }
    },
    {
      "cell_type": "code",
      "source": [
        "# The map() function returns a map object(which is an ieterator) of the results after applying the given function to each iten of a given iterable(list,tuple,etc).\n",
        "def double(n):\n",
        "    return n * 2\n",
        "\n",
        "# List of numbers to double\n",
        "numbers = [5, 6, 7, 8]\n",
        "\n",
        "# Use map to apply the double function to each number in the list\n",
        "result = map(double, numbers)\n",
        "\n",
        "# Convert the map object to a list and print the result\n",
        "print(list(result))"
      ],
      "metadata": {
        "colab": {
          "base_uri": "https://localhost:8080/"
        },
        "id": "xTd7nRMunc9L",
        "outputId": "2fb7dfd1-8e1a-4305-f293-33cf3b02b42c"
      },
      "execution_count": 11,
      "outputs": [
        {
          "output_type": "stream",
          "name": "stdout",
          "text": [
            "[10, 12, 14, 16]\n"
          ]
        }
      ]
    },
    {
      "cell_type": "code",
      "source": [
        "# The reduce() function is used to apply a particular function passed in its argument to all of the list elements mentioned in the sequence passed along. This function is defined in \"functions\" module.\n",
        "import functools\n",
        "numbers = [1,2,3,4]\n",
        "product = functools.reduce(lambda x,y:x*y,numbers)\n",
        "print(\"product of list elements:\",product)"
      ],
      "metadata": {
        "colab": {
          "base_uri": "https://localhost:8080/"
        },
        "id": "r6YF796WIKcB",
        "outputId": "730ded8a-2881-4653-f688-b506432ee264"
      },
      "execution_count": 12,
      "outputs": [
        {
          "output_type": "stream",
          "name": "stdout",
          "text": [
            "product of list elements: 24\n"
          ]
        }
      ]
    },
    {
      "cell_type": "code",
      "source": [
        "# The filter() method filter the given sequence with the help of a function that tests each element in the sequence to be true (or) not\n",
        "def is_even(n):\n",
        "  return n % 2 == 0\n",
        "numbers = [1,2,3,4,5,6,7,8,9,10]\n",
        "even_numbers = filter(is_even,numbers)\n",
        "print(\"Even numbers:\",list(even_numbers))"
      ],
      "metadata": {
        "colab": {
          "base_uri": "https://localhost:8080/"
        },
        "id": "e1zOzhiyIKQ0",
        "outputId": "fddb69db-cb16-4e56-8f80-77ac321d25b6"
      },
      "execution_count": 13,
      "outputs": [
        {
          "output_type": "stream",
          "name": "stdout",
          "text": [
            "Even numbers: [2, 4, 6, 8, 10]\n"
          ]
        }
      ]
    },
    {
      "cell_type": "markdown",
      "source": [
        "11) Using pen & paper write the internal mechanism for sum operation using reduce function on this given list:[47,11,42,13]:?"
      ],
      "metadata": {
        "id": "h3e-aFh1ndla"
      }
    },
    {
      "cell_type": "markdown",
      "source": [
        "!.[alt text].(https://drive.google.com/file/d/1z_tny6Aqgrub1WFAcmJp9OEGX_G_Q13o/view?usp=sharing)"
      ],
      "metadata": {
        "id": "AYveO2YPNWV1"
      }
    },
    {
      "cell_type": "markdown",
      "source": [
        "Practical Questions"
      ],
      "metadata": {
        "id": "XTqwNRtUPjhK"
      }
    },
    {
      "cell_type": "markdown",
      "source": [
        "1) Write a Python function that takes a list of numbers as input and returns the sum of all even numbers in\n",
        "the list?"
      ],
      "metadata": {
        "id": "9gNPIKCxxia1"
      }
    },
    {
      "cell_type": "code",
      "source": [
        "def sum_of_even_numbers(numbers):\n",
        "    # Initialize the sum to 0\n",
        "    total = 0\n",
        "\n",
        "    # Loop through each number in the list\n",
        "    for num in numbers:\n",
        "        # Check if the number is even\n",
        "        if num % 2 == 0:\n",
        "            total += num  # Add even number to the total\n",
        "\n",
        "    # Return the sum of even numbers\n",
        "    return total\n",
        "\n",
        "numbers = [1, 2, 3, 4, 5, 6, 7, 8]\n",
        "result = sum_of_even_numbers(numbers)\n",
        "print(result)  # Output will be 20 (2 + 4 + 6 + 8)\n"
      ],
      "metadata": {
        "colab": {
          "base_uri": "https://localhost:8080/"
        },
        "id": "_TNnYLrGxlep",
        "outputId": "88a9ee72-33af-4713-d098-0785d67508bf"
      },
      "execution_count": 14,
      "outputs": [
        {
          "output_type": "stream",
          "name": "stdout",
          "text": [
            "20\n"
          ]
        }
      ]
    },
    {
      "cell_type": "markdown",
      "source": [
        "2)  Create a Python function that accepts a string and returns the reverse of that string?"
      ],
      "metadata": {
        "id": "_jiZ8e8RyF6y"
      }
    },
    {
      "cell_type": "code",
      "source": [
        "def reverse_string(input_string):\n",
        "    # Return the reversed string\n",
        "    return input_string[::-1]\n",
        "result = reverse_string(\"hello\")\n",
        "print(result)  # Output will be 'olleh'\n"
      ],
      "metadata": {
        "colab": {
          "base_uri": "https://localhost:8080/"
        },
        "id": "5uIBa2NAyLbO",
        "outputId": "527a7e6b-1025-4eb1-9426-af2ac6a2c1b7"
      },
      "execution_count": 15,
      "outputs": [
        {
          "output_type": "stream",
          "name": "stdout",
          "text": [
            "olleh\n"
          ]
        }
      ]
    },
    {
      "cell_type": "markdown",
      "source": [
        "3) Implement a Python function that takes a list of integers and returns a new list containing the squares of\n",
        "each number?\n",
        "\n"
      ],
      "metadata": {
        "id": "O9c2nrTqyL20"
      }
    },
    {
      "cell_type": "code",
      "source": [
        "def square_numbers(numbers):\n",
        "    # Use list comprehension to return a list of squares\n",
        "    return [num ** 2 for num in numbers]\n",
        "numbers = [1, 2, 3, 4, 5]\n",
        "squared_numbers = square_numbers(numbers)\n",
        "print(squared_numbers)  # Output will be [1, 4, 9, 16, 25]\n"
      ],
      "metadata": {
        "colab": {
          "base_uri": "https://localhost:8080/"
        },
        "id": "alOiN508yMVi",
        "outputId": "73545857-665a-4b65-ce1c-4d9d6b4b9945"
      },
      "execution_count": 16,
      "outputs": [
        {
          "output_type": "stream",
          "name": "stdout",
          "text": [
            "[1, 4, 9, 16, 25]\n"
          ]
        }
      ]
    },
    {
      "cell_type": "markdown",
      "source": [
        "4)  Write a Python function that checks if a given number is prime or not from 1 to 200?"
      ],
      "metadata": {
        "id": "0p9AKq3SyNY4"
      }
    },
    {
      "cell_type": "code",
      "source": [
        "def is_prime(number):\n",
        "    \"\"\"Check if a number between 1 and 200 is prime.\"\"\"\n",
        "    if number <= 1 or number > 200:\n",
        "        return f\"{number} is out of range. Please provide a number between 1 and 200.\"\n",
        "\n",
        "    if number == 2:\n",
        "        return True\n",
        "    if number % 2 == 0:\n",
        "        return False\n",
        "\n",
        "    for i in range(3, int(number ** 0.5) + 1, 2):\n",
        "        if number % i == 0:\n",
        "            return False\n",
        "\n",
        "    return True\n",
        "\n",
        "# Example usage:\n",
        "for num in range(1, 201):\n",
        "    print(f\"{num}: {'Prime' if is_prime(num) else 'Not Prime'}\")\n"
      ],
      "metadata": {
        "colab": {
          "base_uri": "https://localhost:8080/"
        },
        "id": "zdR1cPqvyNyl",
        "outputId": "f0572db8-3e2c-4400-819e-f381e0ca79f9"
      },
      "execution_count": 17,
      "outputs": [
        {
          "output_type": "stream",
          "name": "stdout",
          "text": [
            "1: Prime\n",
            "2: Prime\n",
            "3: Prime\n",
            "4: Not Prime\n",
            "5: Prime\n",
            "6: Not Prime\n",
            "7: Prime\n",
            "8: Not Prime\n",
            "9: Not Prime\n",
            "10: Not Prime\n",
            "11: Prime\n",
            "12: Not Prime\n",
            "13: Prime\n",
            "14: Not Prime\n",
            "15: Not Prime\n",
            "16: Not Prime\n",
            "17: Prime\n",
            "18: Not Prime\n",
            "19: Prime\n",
            "20: Not Prime\n",
            "21: Not Prime\n",
            "22: Not Prime\n",
            "23: Prime\n",
            "24: Not Prime\n",
            "25: Not Prime\n",
            "26: Not Prime\n",
            "27: Not Prime\n",
            "28: Not Prime\n",
            "29: Prime\n",
            "30: Not Prime\n",
            "31: Prime\n",
            "32: Not Prime\n",
            "33: Not Prime\n",
            "34: Not Prime\n",
            "35: Not Prime\n",
            "36: Not Prime\n",
            "37: Prime\n",
            "38: Not Prime\n",
            "39: Not Prime\n",
            "40: Not Prime\n",
            "41: Prime\n",
            "42: Not Prime\n",
            "43: Prime\n",
            "44: Not Prime\n",
            "45: Not Prime\n",
            "46: Not Prime\n",
            "47: Prime\n",
            "48: Not Prime\n",
            "49: Not Prime\n",
            "50: Not Prime\n",
            "51: Not Prime\n",
            "52: Not Prime\n",
            "53: Prime\n",
            "54: Not Prime\n",
            "55: Not Prime\n",
            "56: Not Prime\n",
            "57: Not Prime\n",
            "58: Not Prime\n",
            "59: Prime\n",
            "60: Not Prime\n",
            "61: Prime\n",
            "62: Not Prime\n",
            "63: Not Prime\n",
            "64: Not Prime\n",
            "65: Not Prime\n",
            "66: Not Prime\n",
            "67: Prime\n",
            "68: Not Prime\n",
            "69: Not Prime\n",
            "70: Not Prime\n",
            "71: Prime\n",
            "72: Not Prime\n",
            "73: Prime\n",
            "74: Not Prime\n",
            "75: Not Prime\n",
            "76: Not Prime\n",
            "77: Not Prime\n",
            "78: Not Prime\n",
            "79: Prime\n",
            "80: Not Prime\n",
            "81: Not Prime\n",
            "82: Not Prime\n",
            "83: Prime\n",
            "84: Not Prime\n",
            "85: Not Prime\n",
            "86: Not Prime\n",
            "87: Not Prime\n",
            "88: Not Prime\n",
            "89: Prime\n",
            "90: Not Prime\n",
            "91: Not Prime\n",
            "92: Not Prime\n",
            "93: Not Prime\n",
            "94: Not Prime\n",
            "95: Not Prime\n",
            "96: Not Prime\n",
            "97: Prime\n",
            "98: Not Prime\n",
            "99: Not Prime\n",
            "100: Not Prime\n",
            "101: Prime\n",
            "102: Not Prime\n",
            "103: Prime\n",
            "104: Not Prime\n",
            "105: Not Prime\n",
            "106: Not Prime\n",
            "107: Prime\n",
            "108: Not Prime\n",
            "109: Prime\n",
            "110: Not Prime\n",
            "111: Not Prime\n",
            "112: Not Prime\n",
            "113: Prime\n",
            "114: Not Prime\n",
            "115: Not Prime\n",
            "116: Not Prime\n",
            "117: Not Prime\n",
            "118: Not Prime\n",
            "119: Not Prime\n",
            "120: Not Prime\n",
            "121: Not Prime\n",
            "122: Not Prime\n",
            "123: Not Prime\n",
            "124: Not Prime\n",
            "125: Not Prime\n",
            "126: Not Prime\n",
            "127: Prime\n",
            "128: Not Prime\n",
            "129: Not Prime\n",
            "130: Not Prime\n",
            "131: Prime\n",
            "132: Not Prime\n",
            "133: Not Prime\n",
            "134: Not Prime\n",
            "135: Not Prime\n",
            "136: Not Prime\n",
            "137: Prime\n",
            "138: Not Prime\n",
            "139: Prime\n",
            "140: Not Prime\n",
            "141: Not Prime\n",
            "142: Not Prime\n",
            "143: Not Prime\n",
            "144: Not Prime\n",
            "145: Not Prime\n",
            "146: Not Prime\n",
            "147: Not Prime\n",
            "148: Not Prime\n",
            "149: Prime\n",
            "150: Not Prime\n",
            "151: Prime\n",
            "152: Not Prime\n",
            "153: Not Prime\n",
            "154: Not Prime\n",
            "155: Not Prime\n",
            "156: Not Prime\n",
            "157: Prime\n",
            "158: Not Prime\n",
            "159: Not Prime\n",
            "160: Not Prime\n",
            "161: Not Prime\n",
            "162: Not Prime\n",
            "163: Prime\n",
            "164: Not Prime\n",
            "165: Not Prime\n",
            "166: Not Prime\n",
            "167: Prime\n",
            "168: Not Prime\n",
            "169: Not Prime\n",
            "170: Not Prime\n",
            "171: Not Prime\n",
            "172: Not Prime\n",
            "173: Prime\n",
            "174: Not Prime\n",
            "175: Not Prime\n",
            "176: Not Prime\n",
            "177: Not Prime\n",
            "178: Not Prime\n",
            "179: Prime\n",
            "180: Not Prime\n",
            "181: Prime\n",
            "182: Not Prime\n",
            "183: Not Prime\n",
            "184: Not Prime\n",
            "185: Not Prime\n",
            "186: Not Prime\n",
            "187: Not Prime\n",
            "188: Not Prime\n",
            "189: Not Prime\n",
            "190: Not Prime\n",
            "191: Prime\n",
            "192: Not Prime\n",
            "193: Prime\n",
            "194: Not Prime\n",
            "195: Not Prime\n",
            "196: Not Prime\n",
            "197: Prime\n",
            "198: Not Prime\n",
            "199: Prime\n",
            "200: Not Prime\n"
          ]
        }
      ]
    },
    {
      "cell_type": "markdown",
      "source": [
        "5) Create an iterator class in Python that generates the Fibonacci sequence up to a specified number of\n",
        "terms?"
      ],
      "metadata": {
        "id": "wmuXtvq-yOIK"
      }
    },
    {
      "cell_type": "code",
      "source": [
        "class FibonacciIterator:\n",
        "    def __init__(self, max_terms):\n",
        "        self.max_terms = max_terms\n",
        "        self.current = 0\n",
        "        self.a = 0\n",
        "        self.b = 1\n",
        "\n",
        "    def __iter__(self):\n",
        "        return self\n",
        "\n",
        "    def __next__(self):\n",
        "        if self.current >= self.max_terms:\n",
        "            raise StopIteration\n",
        "\n",
        "        if self.current == 0:\n",
        "            self.current += 1\n",
        "            return self.a\n",
        "        elif self.current == 1:\n",
        "            self.current += 1\n",
        "            return self.b\n",
        "\n",
        "        next_value = self.a + self.b\n",
        "        self.a, self.b = self.b, next_value\n",
        "        self.current += 1\n",
        "        return next_value\n",
        "\n",
        "# Example usage:\n",
        "num_terms = 10\n",
        "fib_sequence = FibonacciIterator(num_terms)\n",
        "for term in fib_sequence:\n",
        "    print(term)\n"
      ],
      "metadata": {
        "colab": {
          "base_uri": "https://localhost:8080/"
        },
        "id": "jzzV5SNsyOvo",
        "outputId": "35f7808a-76c2-42d2-d188-8b064c441a0c"
      },
      "execution_count": 18,
      "outputs": [
        {
          "output_type": "stream",
          "name": "stdout",
          "text": [
            "0\n",
            "1\n",
            "1\n",
            "2\n",
            "3\n",
            "5\n",
            "8\n",
            "13\n",
            "21\n",
            "34\n"
          ]
        }
      ]
    },
    {
      "cell_type": "markdown",
      "source": [
        "6)  Write a generator function in Python that yields the powers of 2 up to a given exponent?"
      ],
      "metadata": {
        "id": "XDZ8C3GuyPCt"
      }
    },
    {
      "cell_type": "code",
      "source": [
        "def powers_of_two(max_exponent):\n",
        "    \"\"\"Generate powers of 2 up to 2**max_exponent.\"\"\"\n",
        "    for exponent in range(max_exponent + 1):\n",
        "        yield 2 ** exponent\n",
        "\n",
        "# Example usage:\n",
        "for value in powers_of_two(10):\n",
        "    print(value)\n"
      ],
      "metadata": {
        "colab": {
          "base_uri": "https://localhost:8080/"
        },
        "id": "2gfCR7qOyPYV",
        "outputId": "4c9af868-c4b8-43ad-da94-2c380b62368b"
      },
      "execution_count": 19,
      "outputs": [
        {
          "output_type": "stream",
          "name": "stdout",
          "text": [
            "1\n",
            "2\n",
            "4\n",
            "8\n",
            "16\n",
            "32\n",
            "64\n",
            "128\n",
            "256\n",
            "512\n",
            "1024\n"
          ]
        }
      ]
    },
    {
      "cell_type": "markdown",
      "source": [
        "7)  Implement a generator function that reads a file line by line and yields each line as a string?"
      ],
      "metadata": {
        "id": "wf2w8LdxyPvh"
      }
    },
    {
      "cell_type": "code",
      "source": [
        "def read_file_line_by_line(file_path):\n",
        "    \"\"\"Yield each line from a file as a string.\"\"\"\n",
        "    try:\n",
        "        with open(file_path, 'r') as file:\n",
        "            for line in file:\n",
        "                yield line.rstrip('\\n')\n",
        "    except FileNotFoundError:\n",
        "        yield \"File not found. Please check the file path.\"\n",
        "\n",
        "# Example usage:\n",
        "# for line in read_file_line_by_line('example.txt'):\n",
        "#     print(line)\n"
      ],
      "metadata": {
        "id": "HxC-aqYVyQO_"
      },
      "execution_count": 20,
      "outputs": []
    },
    {
      "cell_type": "markdown",
      "source": [
        "8) Use a lambda function in Python to sort a list of tuples based on the second element of each tuple?"
      ],
      "metadata": {
        "id": "I-HucWFQyQy5"
      }
    },
    {
      "cell_type": "code",
      "source": [
        "# Sample list of tuples\n",
        "tuples_list = [(1, 3), (4, 1), (2, 2), (5, 0)]\n",
        "\n",
        "# Sorting using a lambda function\n",
        "sorted_list = sorted(tuples_list, key=lambda x: x[1])\n",
        "\n",
        "# Display the sorted list\n",
        "print(sorted_list)\n"
      ],
      "metadata": {
        "colab": {
          "base_uri": "https://localhost:8080/"
        },
        "id": "PzqfubtSyRO0",
        "outputId": "af79eabe-a228-4f88-d221-7015db980569"
      },
      "execution_count": 21,
      "outputs": [
        {
          "output_type": "stream",
          "name": "stdout",
          "text": [
            "[(5, 0), (4, 1), (2, 2), (1, 3)]\n"
          ]
        }
      ]
    },
    {
      "cell_type": "markdown",
      "source": [
        "9) Write a Python program that uses `map()` to convert a list of temperatures from Celsius to Fahrenheit?"
      ],
      "metadata": {
        "id": "tpwiAle2yRkw"
      }
    },
    {
      "cell_type": "code",
      "source": [
        "def celsius_to_fahrenheit(celsius):\n",
        "    \"\"\"Convert Celsius to Fahrenheit.\"\"\"\n",
        "    return (celsius * 9/5) + 32\n",
        "\n",
        "# List of temperatures in Celsius\n",
        "temperatures_celsius = [0, 20, 30, 40, 100]\n",
        "\n",
        "# Convert using map()\n",
        "temperatures_fahrenheit = list(map(celsius_to_fahrenheit, temperatures_celsius))\n",
        "\n",
        "# Display the result\n",
        "print(\"Temperatures in Fahrenheit:\", temperatures_fahrenheit)\n"
      ],
      "metadata": {
        "colab": {
          "base_uri": "https://localhost:8080/"
        },
        "id": "fF0Wh5QPySPP",
        "outputId": "80768c27-8c07-4ee0-d297-cbba0a10ab17"
      },
      "execution_count": 22,
      "outputs": [
        {
          "output_type": "stream",
          "name": "stdout",
          "text": [
            "Temperatures in Fahrenheit: [32.0, 68.0, 86.0, 104.0, 212.0]\n"
          ]
        }
      ]
    },
    {
      "cell_type": "markdown",
      "source": [
        "10) Create a Python program that uses `filter()` to remove all the vowels from a given string?"
      ],
      "metadata": {
        "id": "HdApUGi00xCt"
      }
    },
    {
      "cell_type": "code",
      "source": [
        "def is_not_vowel(char):\n",
        "    \"\"\"Check if a character is not a vowel.\"\"\"\n",
        "    return char.lower() not in 'aeiou'\n",
        "\n",
        "# Input string\n",
        "input_string = \"Hello World\"\n",
        "\n",
        "# Remove vowels using filter()\n",
        "result = ''.join(filter(is_not_vowel, input_string))\n",
        "\n",
        "# Display the result\n",
        "print(\"String without vowels:\", result)\n"
      ],
      "metadata": {
        "colab": {
          "base_uri": "https://localhost:8080/"
        },
        "id": "alOIhJNh0xco",
        "outputId": "741da9f2-b0f7-4e5d-8b9d-28d185503c52"
      },
      "execution_count": 23,
      "outputs": [
        {
          "output_type": "stream",
          "name": "stdout",
          "text": [
            "String without vowels: Hll Wrld\n"
          ]
        }
      ]
    },
    {
      "cell_type": "markdown",
      "source": [
        "11)  Imagine an accounting routine used in a book shop. It works on a list with sublists, which look like this:\n",
        "https://drive.google.com/file/d/1ztz12_XF45-f8BMNy2YwCcMCAL_Yc931/view?usp=sharing\n",
        "Write a Python program, which returns a list with 2-tuples. Each tuple consists of the order number and the\n",
        "product of the price per item and the quantity. The product should be increased by 10,- € if the value of the order is smaller than 100,00 €. Write a Python program using lambda and map?\n",
        "\n"
      ],
      "metadata": {
        "id": "Kd7VHscm0xu6"
      }
    },
    {
      "cell_type": "code",
      "source": [
        "# Accounting routine to process orders using lambda and map\n",
        "orders = [\n",
        "    (34587, \"Learning Python, Mark Lutz\", 4, 40.95),\n",
        "    (98762, \"Programming Python, Mark Lutz\", 5, 56.80),\n",
        "    (77226, \"Head First Python, Paul Barry\", 3, 32.95),\n",
        "    (88112, \"Einfuhrung in Python3, Bernd Klein\", 3, 24.99),\n",
        "]\n",
        "\n",
        "# Calculate total cost and add 10 if the total is less than 100\n",
        "order_totals = list(map(lambda order: (order[0], order[2] * order[3] + (10 if order[2] * order[3] < 100 else 0)), orders))\n",
        "\n",
        "# Display the result\n",
        "print(\"Order totals:\")\n",
        "for order in order_totals:\n",
        "    print(order)\n"
      ],
      "metadata": {
        "colab": {
          "base_uri": "https://localhost:8080/"
        },
        "id": "efEu0H4y0yE9",
        "outputId": "e7266fa3-a459-46e7-ab9d-1a5d3fb32758"
      },
      "execution_count": 24,
      "outputs": [
        {
          "output_type": "stream",
          "name": "stdout",
          "text": [
            "Order totals:\n",
            "(34587, 163.8)\n",
            "(98762, 284.0)\n",
            "(77226, 108.85000000000001)\n",
            "(88112, 84.97)\n"
          ]
        }
      ]
    }
  ]
}